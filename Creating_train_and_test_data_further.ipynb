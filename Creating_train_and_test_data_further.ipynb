{
  "cells": [
    {
      "cell_type": "code",
      "execution_count": null,
      "metadata": {
        "id": "p7mh4I5JbXuW"
      },
      "outputs": [],
      "source": [
        "import numpy as np\n",
        "import os\n",
        "import scipy.io as io \n",
        "import matplotlib.pyplot as plt\n",
        "import h5py\n",
        "import pandas as pd"
      ]
    },
    {
      "cell_type": "code",
      "execution_count": null,
      "metadata": {},
      "outputs": [],
      "source": [
        "#trying out how to drop the 0s in the file. \n",
        "data = pd.read_csv(f'combined_data_sub1.csv')"
      ]
    },
    {
      "attachments": {},
      "cell_type": "markdown",
      "metadata": {},
      "source": [
        "Learning how to get all the zero padding out of the data "
      ]
    },
    {
      "cell_type": "code",
      "execution_count": null,
      "metadata": {},
      "outputs": [],
      "source": [
        "all_zero_rows = data[(data.iloc[:,:-3] == 0).all(axis=1)]\n",
        "\n",
        "# Print number of all zero rows\n",
        "print(\"length of the column labels: \", len(data[\"labels\"]))\n",
        "print(\"length of the data itself:\", len(data))\n",
        "print(\"Length of the first column of the data: \", len(data[\"1\"]))\n",
        "print(len(all_zero_rows))\n",
        "print(all_zero_rows.index)\n",
        "\n",
        "data = data.drop(all_zero_rows.index)\n",
        "\n",
        "dftr = pd.DataFrame(data)\n",
        "print(dftr)"
      ]
    },
    {
      "attachments": {},
      "cell_type": "markdown",
      "metadata": {},
      "source": [
        "putting all the combined csv files of the participants together\n"
      ]
    },
    {
      "cell_type": "code",
      "execution_count": null,
      "metadata": {
        "colab": {
          "base_uri": "https://localhost:8080/"
        },
        "id": "L2gEc3V5bj81",
        "outputId": "6b4bdd6f-9e94-4fbf-cd1c-8f8388ffb7ff"
      },
      "outputs": [],
      "source": [
        "train_set = pd.DataFrame()\n",
        "test_set = pd.DataFrame()\n",
        "\n",
        "\n",
        "for i in range(1,40):\n",
        "  print(\"working on the data of participant: \" + str(i) + \".\")\n",
        "  if i == 1 or i == 38: #creating test set \n",
        "    par_file = pd.read_csv(f'combined_data_sub{str(i)}.csv')\n",
        "    if test_set is None: \n",
        "      all_zero_rows = par_file[(par_file.iloc[:,:-3] == 0).all(axis=1)]\n",
        "      par_file = par_file.drop(all_zero_rows.index)\n",
        "      dftr = pd.DataFrame(par_file)\n",
        "      test_set = pd.DataFrame(dftr)      \n",
        "    else: \n",
        "      all_zero_rows = par_file[(par_file.iloc[:,:-3] == 0).all(axis=1)]\n",
        "      par_file = par_file.drop(all_zero_rows.index)\n",
        "      df = pd.DataFrame(par_file)\n",
        "      test_set = pd.concat([test_set,df], ignore_index = True)\n",
        "      print(test_set)\n",
        "  else: #creating train set\n",
        "    try: \n",
        "      par_file = pd.read_csv(f'combined_data_sub{str(i)}.csv')\n",
        "      if train_set is None: \n",
        "        all_zero_rows = par_file[(par_file.iloc[:,:-3] == 0).all(axis=1)]\n",
        "        par_file = par_file.drop(all_zero_rows.index)\n",
        "        dftr = pd.DataFrame(par_file)\n",
        "        train_set = pd.DataFrame(dftr)\n",
        "      else: \n",
        "        all_zero_rows = par_file[(par_file.iloc[:,:-3] == 0).all(axis=1)]\n",
        "        par_file = par_file.drop(all_zero_rows.index)\n",
        "        df = pd.DataFrame(par_file)\n",
        "        train_set = pd.concat([train_set, df], ignore_index = True)\n",
        "    except FileNotFoundError:\n",
        "      pass\n",
        "\n",
        "print(test_set)\n",
        "print(train_set)\n"
      ]
    },
    {
      "cell_type": "code",
      "execution_count": null,
      "metadata": {},
      "outputs": [],
      "source": [
        "test_set.to_csv('Smaller_Test_subtill40.csv', index=False)\n",
        "train_set.to_csv('Smaller_Train_subtill40.csv', index = False)"
      ]
    },
    {
      "attachments": {},
      "cell_type": "markdown",
      "metadata": {},
      "source": [
        "Loading the train and test data "
      ]
    },
    {
      "cell_type": "code",
      "execution_count": null,
      "metadata": {},
      "outputs": [],
      "source": [
        "train_data = pd.read_csv(\"Smaller_Train_subtill40.csv\")\n",
        "test_data = pd.read_csv(\"Smaller_Test_subtill40.csv\")"
      ]
    },
    {
      "cell_type": "code",
      "execution_count": null,
      "metadata": {},
      "outputs": [],
      "source": [
        "train_data.columns = [\"Fp1\", \"Fpz\", \"Fp2\", \"F7\", \"F3\", \"Fz\", \"F4\", \"F8\", \"FC5\", \"FC1\", \"FC2\", \"FC6\", \"T7\", \"C3\", \"Cz\", \"C4\", \"T8\", \"CP5\", \"CP1\", \"CP2\", \"CP6\", \"P7\", \"P3\", \"Pz\", \"P4\", \"P8\", \"POz\", \"O1\", \"O2\", \"AF7\", \"AF3\", \"AF4\", \"AF8\", \"F5\", \"F1\", \"F2\", \"F6\", \"FC3\", \"FCz\", \"FC4\", \"C5\", \"C1\", \"C2\", \"C6\", \"CP3\", \"CP4\", \"P5\", \"P1\", \"P2\", \"P6\", \"PO5\", \"PO3\", \"PO4\", \"PO6\", \"FT7\", \"FT8\", \"TP7\", \"TP8\", \"PO7\", \"PO8\", \"Oz\", \"labels\", \"trial_num\", \"participant\"]\n",
        "test_data.columns = [\"Fp1\", \"Fpz\", \"Fp2\", \"F7\", \"F3\", \"Fz\", \"F4\", \"F8\", \"FC5\", \"FC1\", \"FC2\", \"FC6\", \"T7\", \"C3\", \"Cz\", \"C4\", \"T8\", \"CP5\", \"CP1\", \"CP2\", \"CP6\", \"P7\", \"P3\", \"Pz\", \"P4\", \"P8\", \"POz\", \"O1\", \"O2\", \"AF7\", \"AF3\", \"AF4\", \"AF8\", \"F5\", \"F1\", \"F2\", \"F6\", \"FC3\", \"FCz\", \"FC4\", \"C5\", \"C1\", \"C2\", \"C6\", \"CP3\", \"CP4\", \"P5\", \"P1\", \"P2\", \"P6\", \"PO5\", \"PO3\", \"PO4\", \"PO6\", \"FT7\", \"FT8\", \"TP7\", \"TP8\", \"PO7\", \"PO8\", \"Oz\", \"labels\", \"trial_num\", \"participant\"]"
      ]
    }
  ],
  "metadata": {
    "colab": {
      "provenance": []
    },
    "kernelspec": {
      "display_name": "Python 3",
      "name": "python3"
    },
    "language_info": {
      "codemirror_mode": {
        "name": "ipython",
        "version": 3
      },
      "file_extension": ".py",
      "mimetype": "text/x-python",
      "name": "python",
      "nbconvert_exporter": "python",
      "pygments_lexer": "ipython3",
      "version": "3.8.3"
    }
  },
  "nbformat": 4,
  "nbformat_minor": 0
}
