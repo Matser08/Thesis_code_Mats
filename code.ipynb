{
 "cells": [
  {
   "cell_type": "code",
   "execution_count": null,
   "metadata": {},
   "outputs": [],
   "source": [
    "import numpy as np\n",
    "import os\n",
    "import mne\n",
    "import scipy.io as io \n",
    "import matplotlib.pyplot as plt\n",
    "import h5py\n",
    "import pandas as pd"
   ]
  },
  {
   "attachments": {},
   "cell_type": "markdown",
   "metadata": {},
   "source": [
    "Load the train and test data and give them the right column names"
   ]
  },
  {
   "cell_type": "code",
   "execution_count": null,
   "metadata": {},
   "outputs": [],
   "source": [
    "train_data = pd.read_csv(\"Smaller_Train_set_new.csv\")\n",
    "test_data = pd.read_csv(\"Smaller_Test_set_new.csv\")"
   ]
  },
  {
   "cell_type": "code",
   "execution_count": null,
   "metadata": {},
   "outputs": [],
   "source": [
    "print(train_data.shape)\n",
    "print(test_data.shape)"
   ]
  },
  {
   "cell_type": "code",
   "execution_count": null,
   "metadata": {},
   "outputs": [],
   "source": [
    "train_data.columns = [\"Fp1\", \"Fpz\", \"Fp2\", \"F7\", \"F3\", \"Fz\", \"F4\", \"F8\", \"FC5\", \"FC1\", \"FC2\", \"FC6\", \"T7\", \"C3\", \"Cz\", \"C4\", \"T8\", \"CP5\", \"CP1\", \"CP2\", \"CP6\", \"P7\", \"P3\", \"Pz\", \"P4\", \"P8\", \"POz\", \"O1\", \"O2\", \"AF7\", \"AF3\", \"AF4\", \"AF8\", \"F5\", \"F1\", \"F2\", \"F6\", \"FC3\", \"FCz\", \"FC4\", \"C5\", \"C1\", \"C2\", \"C6\", \"CP3\", \"CP4\", \"P5\", \"P1\", \"P2\", \"P6\", \"PO5\", \"PO3\", \"PO4\", \"PO6\", \"FT7\", \"FT8\", \"TP7\", \"TP8\", \"PO7\", \"PO8\", \"Oz\", \"labels\", \"trial_num\", \"participant\"]\n",
    "test_data.columns = [\"Fp1\", \"Fpz\", \"Fp2\", \"F7\", \"F3\", \"Fz\", \"F4\", \"F8\", \"FC5\", \"FC1\", \"FC2\", \"FC6\", \"T7\", \"C3\", \"Cz\", \"C4\", \"T8\", \"CP5\", \"CP1\", \"CP2\", \"CP6\", \"P7\", \"P3\", \"Pz\", \"P4\", \"P8\", \"POz\", \"O1\", \"O2\", \"AF7\", \"AF3\", \"AF4\", \"AF8\", \"F5\", \"F1\", \"F2\", \"F6\", \"FC3\", \"FCz\", \"FC4\", \"C5\", \"C1\", \"C2\", \"C6\", \"CP3\", \"CP4\", \"P5\", \"P1\", \"P2\", \"P6\", \"PO5\", \"PO3\", \"PO4\", \"PO6\", \"FT7\", \"FT8\", \"TP7\", \"TP8\", \"PO7\", \"PO8\", \"Oz\", \"labels\", \"trial_num\", \"participant\"]"
   ]
  },
  {
   "attachments": {},
   "cell_type": "markdown",
   "metadata": {},
   "source": [
    "Applying logistic regression for Valid vs Invalid with feature selection or without feature selection\n"
   ]
  },
  {
   "cell_type": "code",
   "execution_count": null,
   "metadata": {},
   "outputs": [],
   "source": [
    "from sklearn.linear_model import LogisticRegression\n",
    "from sklearn.metrics import accuracy_score, precision_score, confusion_matrix\n",
    "\n",
    "X_train = train_data.loc[:, [\"Fp1\", \"Fpz\", \"Fp2\", \"F7\", \"F3\", \"Fz\", \"F4\", \"F8\", \"FC1\", \"FC2\", \"FC6\", \"T7\", \"C3\", \"Cz\", \"C4\", \"T8\", \"CP5\", \"CP1\", \"CP2\", \"CP6\", \"P7\", \"P3\", \"Pz\", \"P4\", \"P8\", \"POz\" ]]\n",
    "X_test = test_data.loc[:, [\"Fp1\", \"Fpz\", \"Fp2\", \"F7\", \"F3\", \"Fz\", \"F4\", \"F8\", \"FC1\", \"FC2\", \"FC6\", \"T7\", \"C3\", \"Cz\", \"C4\", \"T8\", \"CP5\", \"CP1\", \"CP2\", \"CP6\", \"P7\", \"P3\", \"Pz\", \"P4\", \"P8\", \"POz\"]]\n",
    "\n",
    "# Extracting the target variable y_train and y_test from the last two columns of the data frames\n",
    "y_train = train_data['labels'] # extract the cue type column\n",
    "y_train = ((y_train == 1) | (y_train == 3)).astype(int) \n",
    "\n",
    "\n",
    "y_test = test_data['labels'] # extract the cue type column\n",
    "y_test = ((y_test == 1) | (y_test == 3)).astype(int)  \n",
    "\n",
    "# Train the logistic regression model\n",
    "reg = LogisticRegression()\n",
    "reg.fit(X_train, y_train)\n",
    "\n",
    "# Predict on the test set\n",
    "y_pred = reg.predict(X_test)\n",
    "\n",
    "# Convert probabilities to binary predictions\n",
    "y_pred = (y_pred > 0.5).astype(int)\n",
    "\n",
    "# Calculate accuracy and precision score\n",
    "accuracy = accuracy_score(y_test, y_pred)\n",
    "precision = precision_score(y_test, y_pred)\n",
    "\n",
    "# Calculate the confusion matrix\n",
    "conf_matrix = confusion_matrix(y_test, y_pred)"
   ]
  },
  {
   "cell_type": "code",
   "execution_count": null,
   "metadata": {},
   "outputs": [],
   "source": [
    "print(accuracy)\n",
    "print(precision)\n",
    "print(conf_matrix)"
   ]
  },
  {
   "attachments": {},
   "cell_type": "markdown",
   "metadata": {},
   "source": [
    "Applying logistic regression with Feature selection or without Feature selection for stick vs avatar cue"
   ]
  },
  {
   "cell_type": "code",
   "execution_count": null,
   "metadata": {},
   "outputs": [],
   "source": [
    "from sklearn.linear_model import LogisticRegression\n",
    "from sklearn.metrics import accuracy_score, precision_score, confusion_matrix\n",
    "\n",
    "X_train = train_data.loc[:, [\"Fp1\", \"Fpz\", \"Fp2\", \"F7\", \"F3\", \"Fz\", \"F4\", \"F8\", \"FC1\", \"FC2\", \"FC6\", \"T7\", \"C3\", \"Cz\", \"C4\", \"T8\", \"CP5\", \"CP1\", \"CP2\", \"CP6\", \"P7\", \"P3\", \"Pz\", \"P4\", \"P8\", \"POz\" ]]\n",
    "X_test = test_data.loc[:, [\"Fp1\", \"Fpz\", \"Fp2\", \"F7\", \"F3\", \"Fz\", \"F4\", \"F8\", \"FC1\", \"FC2\", \"FC6\", \"T7\", \"C3\", \"Cz\", \"C4\", \"T8\", \"CP5\", \"CP1\", \"CP2\", \"CP6\", \"P7\", \"P3\", \"Pz\", \"P4\", \"P8\", \"POz\"]]\n",
    "\n",
    "y_train = train_data['labels'] # extract the cue type column\n",
    "y_train = (y_train < 3).astype(int) # create binary labels for valid (1) vs invalid (0)\n",
    "\n",
    "y_test = test_data['labels'] # extract the cue type column\n",
    "y_test = (y_test < 3).astype(int) # create binary labels for valid (1) vs invalid (0)\n",
    "\n",
    "# Train the logistic regression model\n",
    "reg = LogisticRegression()\n",
    "reg.fit(X_train, y_train)\n",
    "\n",
    "# Predict on the test set\n",
    "y_pred = reg.predict(X_test)\n",
    "\n",
    "# Convert probabilities to binary predictions\n",
    "y_pred = (y_pred > 0.5).astype(int)\n",
    "\n",
    "# Calculate accuracy and precision score\n",
    "accuracy = accuracy_score(y_test, y_pred)\n",
    "precision = precision_score(y_test, y_pred)\n",
    "\n",
    "# Calculate the confusion matrix\n",
    "conf_matrix = confusion_matrix(y_test, y_pred)"
   ]
  },
  {
   "cell_type": "code",
   "execution_count": null,
   "metadata": {},
   "outputs": [],
   "source": [
    "print(accuracy)\n",
    "print(precision)\n",
    "print(conf_matrix)"
   ]
  },
  {
   "attachments": {},
   "cell_type": "markdown",
   "metadata": {},
   "source": [
    "Applying random forest classifier with or without feature selection for stick vs avatar cue"
   ]
  },
  {
   "cell_type": "code",
   "execution_count": null,
   "metadata": {},
   "outputs": [],
   "source": [
    "from sklearn.ensemble import RandomForestClassifier\n",
    "from sklearn.metrics import accuracy_score, precision_score, confusion_matrix\n",
    "import pandas as pd\n",
    "\n",
    "X_train = train_data.loc[:, [\"Fp1\", \"Fpz\", \"Fp2\", \"F7\", \"F3\", \"Fz\", \"F4\", \"F8\", \"FC1\", \"FC2\", \"FC6\", \"T7\", \"C3\", \"Cz\", \"C4\", \"T8\", \"CP5\", \"CP1\", \"CP2\", \"CP6\", \"P7\", \"P3\", \"Pz\", \"P4\", \"P8\", \"POz\" ]]\n",
    "X_test = test_data.loc[:, [\"Fp1\", \"Fpz\", \"Fp2\", \"F7\", \"F3\", \"Fz\", \"F4\", \"F8\", \"FC1\", \"FC2\", \"FC6\", \"T7\", \"C3\", \"Cz\", \"C4\", \"T8\", \"CP5\", \"CP1\", \"CP2\", \"CP6\", \"P7\", \"P3\", \"Pz\", \"P4\", \"P8\", \"POz\"]]\n",
    "\n",
    "y_train = train_data['labels'] # extract the cue type column\n",
    "y_train = (y_train < 3).astype(int) # create binary labels for valid (1) vs invalid (0)\n",
    "\n",
    "y_test = test_data['labels'] # extract the cue type column\n",
    "y_test = (y_test < 3).astype(int) # create binary labels for valid (1) vs invalid (0)\n",
    "\n",
    "\n",
    "# Create a Random Forest Classifier with 100 trees\n",
    "rfc = RandomForestClassifier(n_estimators=100, verbose=2)\n",
    "\n",
    "# Train the classifier on the train data\n",
    "rfc.fit(X_train, y_train)\n",
    "\n",
    "# Predict the labels of the test data\n",
    "y_pred = rfc.predict(X_test)\n",
    "\n",
    "# Calculate accuracy and precision score\n",
    "accuracy = accuracy_score(y_test, y_pred)\n",
    "precision = precision_score(y_test, y_pred)\n",
    "\n",
    "# Calculate the confusion matrix\n",
    "conf_matrix = confusion_matrix(y_test, y_pred)\n",
    "\n",
    "print(accuracy)\n",
    "print(precision)\n",
    "print(conf_matrix)"
   ]
  },
  {
   "attachments": {},
   "cell_type": "markdown",
   "metadata": {},
   "source": [
    "Applying random forest classifier with or without feature selection for Valid vs Invalid"
   ]
  },
  {
   "cell_type": "code",
   "execution_count": null,
   "metadata": {},
   "outputs": [],
   "source": [
    "from sklearn.ensemble import RandomForestClassifier\n",
    "from sklearn.metrics import accuracy_score, precision_score, confusion_matrix\n",
    "import pandas as pd\n",
    "\n",
    "X_train = train_data.loc[:, [\"Fp1\", \"Fpz\", \"Fp2\", \"F7\", \"F3\", \"Fz\", \"F4\", \"F8\", \"FC1\", \"FC2\", \"FC6\", \"T7\", \"C3\", \"Cz\", \"C4\", \"T8\", \"CP5\", \"CP1\", \"CP2\", \"CP6\", \"P7\", \"P3\", \"Pz\", \"P4\", \"P8\", \"POz\" ]]\n",
    "X_test = test_data.loc[:, [\"Fp1\", \"Fpz\", \"Fp2\", \"F7\", \"F3\", \"Fz\", \"F4\", \"F8\", \"FC1\", \"FC2\", \"FC6\", \"T7\", \"C3\", \"Cz\", \"C4\", \"T8\", \"CP5\", \"CP1\", \"CP2\", \"CP6\", \"P7\", \"P3\", \"Pz\", \"P4\", \"P8\", \"POz\"]]\n",
    "\n",
    "y_train = train_data['labels'] # extract the cue type column\n",
    "y_train = ((y_train == 1) | (y_train == 3)).astype(int)\n",
    "\n",
    "y_test = test_data['labels'] # extract the cue type column\n",
    "y_test = ((y_test == 1) | (y_test == 3)).astype(int)\n",
    "\n",
    "\n",
    "# Create a Random Forest Classifier with 100 trees\n",
    "rfc = RandomForestClassifier(n_estimators=100, verbose=2)\n",
    "\n",
    "# Train the classifier on the train data\n",
    "rfc.fit(X_train, y_train)\n",
    "\n",
    "# Predict the labels of the test data\n",
    "y_pred = rfc.predict(X_test)\n",
    "\n",
    "# Calculate accuracy and precision score\n",
    "accuracy = accuracy_score(y_test, y_pred)\n",
    "precision = precision_score(y_test, y_pred)\n",
    "\n",
    "# Calculate the confusion matrix\n",
    "conf_matrix = confusion_matrix(y_test, y_pred)\n",
    "\n",
    "print(accuracy)\n",
    "print(precision)\n",
    "print(conf_matrix)"
   ]
  }
 ],
 "metadata": {
  "kernelspec": {
   "display_name": "base",
   "language": "python",
   "name": "python3"
  },
  "language_info": {
   "codemirror_mode": {
    "name": "ipython",
    "version": 3
   },
   "file_extension": ".py",
   "mimetype": "text/x-python",
   "name": "python",
   "nbconvert_exporter": "python",
   "pygments_lexer": "ipython3",
   "version": "3.8.3"
  },
  "orig_nbformat": 4
 },
 "nbformat": 4,
 "nbformat_minor": 2
}
