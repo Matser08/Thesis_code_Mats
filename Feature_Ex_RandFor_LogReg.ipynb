{
 "cells": [
  {
   "attachments": {},
   "cell_type": "markdown",
   "metadata": {},
   "source": [
    "Using Randomforest classification and Regression Classification on the feature extracted data "
   ]
  },
  {
   "cell_type": "code",
   "execution_count": 2,
   "metadata": {},
   "outputs": [],
   "source": [
    "import numpy as np\n",
    "import os\n",
    "import mne\n",
    "import scipy.io as io \n",
    "import matplotlib.pyplot as plt\n",
    "import pandas as pd\n"
   ]
  },
  {
   "cell_type": "code",
   "execution_count": 21,
   "metadata": {},
   "outputs": [],
   "source": [
    "#load train and test data\n",
    "train_data = pd.read_csv(\"traindata_4t14_feature.csv\")\n",
    "test_data = pd.read_csv(\"testdata_4t14_feature.csv\") #subject 1"
   ]
  },
  {
   "attachments": {},
   "cell_type": "markdown",
   "metadata": {},
   "source": [
    "Logistic Regression Avatar VS Stick Cue"
   ]
  },
  {
   "cell_type": "code",
   "execution_count": 22,
   "metadata": {},
   "outputs": [],
   "source": [
    "from sklearn.linear_model import LogisticRegression\n",
    "from sklearn.metrics import accuracy_score, precision_score, confusion_matrix\n",
    "\n",
    "X_train = train_data[\"power\"]\n",
    "X_test = test_data[\"power\"]\n",
    "\n",
    "X_train = np.array(X_train).reshape(-1, 1)\n",
    "X_test = np.array(X_test).reshape(-1, 1)\n",
    "\n",
    "y_train = train_data['label'] # extract the cue type column\n",
    "y_train = (y_train < 3).astype(int) \n",
    "\n",
    "y_test = test_data['label'] # extract the cue type column\n",
    "y_test = (y_test < 3).astype(int) \n",
    "\n",
    "# Train the logistic regression model\n",
    "reg = LogisticRegression()\n",
    "reg.fit(X_train, y_train)\n",
    "\n",
    "# Predict on the test set\n",
    "y_pred = reg.predict(X_test)\n",
    "\n",
    "# Convert probabilities to binary predictions\n",
    "y_pred = (y_pred > 0.5).astype(int)\n",
    "\n",
    "# Calculate accuracy and precision score\n",
    "accuracy = accuracy_score(y_test, y_pred)\n",
    "precision = precision_score(y_test, y_pred)\n",
    "\n",
    "# Calculate the confusion matrix\n",
    "conf_matrix = confusion_matrix(y_test, y_pred)"
   ]
  },
  {
   "cell_type": "code",
   "execution_count": 23,
   "metadata": {},
   "outputs": [
    {
     "name": "stdout",
     "output_type": "stream",
     "text": [
      "0.5\n",
      "0.5\n",
      "[[2800  112]\n",
      " [2800  112]]\n"
     ]
    }
   ],
   "source": [
    "print(accuracy)\n",
    "print(precision)\n",
    "print(conf_matrix)"
   ]
  },
  {
   "attachments": {},
   "cell_type": "markdown",
   "metadata": {},
   "source": [
    "Logistic Regression Valid VS Invalid"
   ]
  },
  {
   "cell_type": "code",
   "execution_count": 24,
   "metadata": {},
   "outputs": [],
   "source": [
    "from sklearn.linear_model import LogisticRegression\n",
    "from sklearn.metrics import accuracy_score, precision_score, confusion_matrix\n",
    "\n",
    "X_train = train_data[\"power\"]\n",
    "X_test = test_data[\"power\"]\n",
    "\n",
    "X_train = np.array(X_train).reshape(-1, 1)\n",
    "X_test = np.array(X_test).reshape(-1, 1)\n",
    "\n",
    "y_train = train_data['label'] \n",
    "y_train = ((y_train == 1) | (y_train == 3)).astype(int)\n",
    "\n",
    "y_test = test_data['label'] \n",
    "y_test = ((y_test == 1) | (y_test == 3)).astype(int)\n",
    "\n",
    "# Train the logistic regression model\n",
    "reg = LogisticRegression()\n",
    "reg.fit(X_train, y_train)\n",
    "\n",
    "# Predict on the test set\n",
    "y_pred = reg.predict(X_test)\n",
    "\n",
    "# Convert probabilities to binary predictions\n",
    "y_pred = (y_pred > 0.5).astype(int)\n",
    "\n",
    "# Calculate accuracy and precision score\n",
    "accuracy = accuracy_score(y_test, y_pred)\n",
    "precision = precision_score(y_test, y_pred)\n",
    "\n",
    "# Calculate the confusion matrix\n",
    "conf_matrix = confusion_matrix(y_test, y_pred)"
   ]
  },
  {
   "cell_type": "code",
   "execution_count": 25,
   "metadata": {},
   "outputs": [
    {
     "name": "stdout",
     "output_type": "stream",
     "text": [
      "0.5\n",
      "0.5\n",
      "[[ 112 2800]\n",
      " [ 112 2800]]\n"
     ]
    }
   ],
   "source": [
    "print(accuracy)\n",
    "print(precision)\n",
    "print(conf_matrix)"
   ]
  },
  {
   "attachments": {},
   "cell_type": "markdown",
   "metadata": {},
   "source": [
    "Random Forest Classifier with Stick VS Avatar Cue"
   ]
  },
  {
   "cell_type": "code",
   "execution_count": 26,
   "metadata": {},
   "outputs": [
    {
     "name": "stdout",
     "output_type": "stream",
     "text": [
      "accuracy Random Forest Classifier with number of trees 100 : 0.4950206043956044\n",
      "Precision Random Forest Classifier with number of trees 100 : 0.49620319455354805\n",
      "Confusion Matrix Random Forest Classifier with number of trees 100 : [[ 988 1924]\n",
      " [1017 1895]]\n",
      "accuracy Random Forest Classifier with number of trees 300 : 0.4950206043956044\n",
      "Precision Random Forest Classifier with number of trees 300 : 0.4964135542913678\n",
      "Confusion Matrix Random Forest Classifier with number of trees 300 : [[ 876 2036]\n",
      " [ 905 2007]]\n",
      "accuracy Random Forest Classifier with number of trees 500 : 0.4950206043956044\n",
      "Precision Random Forest Classifier with number of trees 500 : 0.49620319455354805\n",
      "Confusion Matrix Random Forest Classifier with number of trees 500 : [[ 988 1924]\n",
      " [1017 1895]]\n",
      "accuracy Random Forest Classifier with number of trees 1000 : 0.4950206043956044\n",
      "Precision Random Forest Classifier with number of trees 1000 : 0.49620319455354805\n",
      "Confusion Matrix Random Forest Classifier with number of trees 1000 : [[ 988 1924]\n",
      " [1017 1895]]\n"
     ]
    }
   ],
   "source": [
    "from sklearn.ensemble import RandomForestClassifier\n",
    "from sklearn.metrics import accuracy_score, precision_score, confusion_matrix\n",
    "import pandas as pd\n",
    "\n",
    "num_trees = (100, 300, 500, 1000)\n",
    "for i in num_trees: \n",
    "    X_train = train_data[\"power\"]\n",
    "    X_test = test_data[\"power\"]\n",
    "\n",
    "    X_train = np.array(X_train).reshape(-1, 1)\n",
    "    X_test = np.array(X_test).reshape(-1, 1)\n",
    "\n",
    "    y_train = train_data['label'] \n",
    "    y_train = (y_train < 3).astype(int) # stick vs avatar cue\n",
    "\n",
    "    y_test = test_data['label'] \n",
    "    y_test = (y_test < 3).astype(int) # stick vs avatar cue\n",
    "\n",
    "\n",
    "    # Create a Random Forest Classifier with 100 trees\n",
    "    rfc = RandomForestClassifier(n_estimators=i)\n",
    "\n",
    "    # Train the classifier on the train data\n",
    "    rfc.fit(X_train, y_train)\n",
    "\n",
    "    # Predict the labels of the test data\n",
    "    y_pred = rfc.predict(X_test)\n",
    "\n",
    "    # Calculate accuracy and precision score\n",
    "    accuracy = accuracy_score(y_test, y_pred)\n",
    "    precision = precision_score(y_test, y_pred)\n",
    "\n",
    "    # Calculate the confusion matrix\n",
    "    conf_matrix = confusion_matrix(y_test, y_pred)\n",
    "\n",
    "    print(\"accuracy Random Forest Classifier with number of trees \" + str(i) + \" : \" + str(accuracy))\n",
    "    print(\"Precision Random Forest Classifier with number of trees \" + str(i) + \" : \" + str(precision))\n",
    "    print(\"Confusion Matrix Random Forest Classifier with number of trees \" + str(i) + \" : \" + str(conf_matrix))"
   ]
  },
  {
   "attachments": {},
   "cell_type": "markdown",
   "metadata": {},
   "source": [
    "Random Forest Classifier with Valid VS Invalid "
   ]
  },
  {
   "cell_type": "code",
   "execution_count": 27,
   "metadata": {},
   "outputs": [
    {
     "name": "stdout",
     "output_type": "stream",
     "text": [
      "accuracy Random Forest Classifier with number of trees 100 : 0.49261675824175827\n",
      "Precision Random Forest Classifier with number of trees 100 : 0.49281657200133644\n",
      "Confusion Matrix Random Forest Classifier with number of trees 100 : [[1394 1518]\n",
      " [1437 1475]]\n",
      "accuracy Random Forest Classifier with number of trees 300 : 0.49158653846153844\n",
      "Precision Random Forest Classifier with number of trees 300 : 0.49114564510299963\n",
      "Confusion Matrix Random Forest Classifier with number of trees 300 : [[1504 1408]\n",
      " [1553 1359]]\n",
      "accuracy Random Forest Classifier with number of trees 500 : 0.49175824175824173\n",
      "Precision Random Forest Classifier with number of trees 500 : 0.4913978494623656\n",
      "Confusion Matrix Random Forest Classifier with number of trees 500 : [[1493 1419]\n",
      " [1541 1371]]\n",
      "accuracy Random Forest Classifier with number of trees 1000 : 0.4921016483516483\n",
      "Precision Random Forest Classifier with number of trees 1000 : 0.49229738780977894\n",
      "Confusion Matrix Random Forest Classifier with number of trees 1000 : [[1396 1516]\n",
      " [1442 1470]]\n"
     ]
    }
   ],
   "source": [
    "from sklearn.ensemble import RandomForestClassifier\n",
    "from sklearn.metrics import accuracy_score, precision_score, confusion_matrix\n",
    "import pandas as pd\n",
    "\n",
    "num_trees = (100, 300, 500, 1000)\n",
    "for i in num_trees: \n",
    "    X_train = train_data[\"power\"]\n",
    "    X_test = test_data[\"power\"]\n",
    "\n",
    "    X_train = np.array(X_train).reshape(-1, 1)\n",
    "    X_test = np.array(X_test).reshape(-1, 1)\n",
    "\n",
    "    y_train = train_data['label'] \n",
    "    y_train = ((y_train == 1) | (y_train == 3)).astype(int)\n",
    "\n",
    "    y_test = test_data['label'] \n",
    "    y_test = ((y_test == 1) | (y_test == 3)).astype(int)\n",
    "\n",
    "\n",
    "    # Create a Random Forest Classifier with 100 trees\n",
    "    rfc = RandomForestClassifier(n_estimators=i)\n",
    "\n",
    "    # Train the classifier on the train data\n",
    "    rfc.fit(X_train, y_train)\n",
    "\n",
    "    # Predict the labels of the test data\n",
    "    y_pred = rfc.predict(X_test)\n",
    "\n",
    "    # Calculate accuracy and precision score\n",
    "    accuracy = accuracy_score(y_test, y_pred)\n",
    "    precision = precision_score(y_test, y_pred)\n",
    "\n",
    "    # Calculate the confusion matrix\n",
    "    conf_matrix = confusion_matrix(y_test, y_pred)\n",
    "\n",
    "    print(\"accuracy Random Forest Classifier with number of trees \" + str(i) + \" : \" + str(accuracy))\n",
    "    print(\"Precision Random Forest Classifier with number of trees \" + str(i) + \" : \" + str(precision))\n",
    "    print(\"Confusion Matrix Random Forest Classifier with number of trees \" + str(i) + \" : \" + str(conf_matrix))"
   ]
  }
 ],
 "metadata": {
  "kernelspec": {
   "display_name": "base",
   "language": "python",
   "name": "python3"
  },
  "language_info": {
   "codemirror_mode": {
    "name": "ipython",
    "version": 3
   },
   "file_extension": ".py",
   "mimetype": "text/x-python",
   "name": "python",
   "nbconvert_exporter": "python",
   "pygments_lexer": "ipython3",
   "version": "3.8.3"
  },
  "orig_nbformat": 4
 },
 "nbformat": 4,
 "nbformat_minor": 2
}
